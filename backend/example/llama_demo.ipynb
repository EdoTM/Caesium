{
 "cells": [
  {
   "cell_type": "code",
   "execution_count": 1,
   "metadata": {},
   "outputs": [
    {
     "name": "stderr",
     "output_type": "stream",
     "text": [
      "/Users/giulio/Mio Computer/HackUPC/.venv/lib/python3.9/site-packages/urllib3/__init__.py:35: NotOpenSSLWarning: urllib3 v2 only supports OpenSSL 1.1.1+, currently the 'ssl' module is compiled with 'LibreSSL 2.8.3'. See: https://github.com/urllib3/urllib3/issues/3020\n",
      "  warnings.warn(\n"
     ]
    }
   ],
   "source": [
    "from llama_index import SimpleDirectoryReader, StorageContext, ServiceContext\n",
    "from llama_index.indices.vector_store import VectorStoreIndex\n",
    "from llama_iris import IRISVectorStore"
   ]
  },
  {
   "cell_type": "code",
   "execution_count": 2,
   "metadata": {},
   "outputs": [],
   "source": [
    "import getpass\n",
    "import os\n",
    "from dotenv import load_dotenv\n",
    "\n",
    "load_dotenv(override=True)\n",
    "\n",
    "if not os.environ.get(\"OPENAI_API_KEY\"):\n",
    "    os.environ[\"OPENAI_API_KEY\"] = getpass.getpass(\"OpenAI API Key:\")"
   ]
  },
  {
   "cell_type": "code",
   "execution_count": 3,
   "metadata": {},
   "outputs": [
    {
     "name": "stdout",
     "output_type": "stream",
     "text": [
      "Document ID: 109a764d-fc22-4dba-b86d-55ef46a7871d\n",
      "Document ID: 8692e2d2-aea8-4cca-a225-539749966869\n"
     ]
    }
   ],
   "source": [
    "documents = SimpleDirectoryReader(\"../data/paul_graham\").load_data()\n",
    "print(\"Document ID:\", documents[0].doc_id)\n",
    "print(\"Document ID:\", documents[1].doc_id)"
   ]
  },
  {
   "cell_type": "code",
   "execution_count": 4,
   "metadata": {},
   "outputs": [],
   "source": [
    "username = 'demo'\n",
    "password = 'demo' \n",
    "hostname = os.getenv('IRIS_HOSTNAME', 'localhost')\n",
    "port = '1972' \n",
    "namespace = 'USER'\n",
    "CONNECTION_STRING = f\"iris://{username}:{password}@{hostname}:{port}/{namespace}\""
   ]
  },
  {
   "cell_type": "code",
   "execution_count": 5,
   "metadata": {},
   "outputs": [],
   "source": [
    "vector_store = IRISVectorStore.from_params(\n",
    "    connection_string=CONNECTION_STRING,\n",
    "    table_name=\"parigi-2\",\n",
    "    embed_dim=1536,  # openai embedding dimension\n",
    ")\n",
    "storage_context = StorageContext.from_defaults(vector_store=vector_store)\n",
    "# service_context = ServiceContext.from_defaults(\n",
    "#     embed_model=embed_model, llm=None\n",
    "# )"
   ]
  },
  {
   "cell_type": "code",
   "execution_count": 6,
   "metadata": {},
   "outputs": [
    {
     "name": "stderr",
     "output_type": "stream",
     "text": [
      "/Users/giulio/Mio Computer/HackUPC/.venv/lib/python3.9/site-packages/tqdm/auto.py:21: TqdmWarning: IProgress not found. Please update jupyter and ipywidgets. See https://ipywidgets.readthedocs.io/en/stable/user_install.html\n",
      "  from .autonotebook import tqdm as notebook_tqdm\n",
      "Parsing nodes: 100%|██████████| 2/2 [00:00<00:00, 25.58it/s]\n",
      "Generating embeddings: 100%|██████████| 9/9 [00:01<00:00,  6.51it/s]\n"
     ]
    }
   ],
   "source": [
    "index = VectorStoreIndex.from_documents(\n",
    "    documents, \n",
    "    storage_context=storage_context, \n",
    "    show_progress=True, \n",
    "    # service_context=service_context,\n",
    ")\n",
    "query_engine = index.as_query_engine()"
   ]
  },
  {
   "cell_type": "code",
   "execution_count": 7,
   "metadata": {},
   "outputs": [],
   "source": [
    "# # If reconnecting to the vector store, use this: \n",
    "\n",
    "# index = VectorStoreIndex.from_vector_store(vector_store=vector_store)\n",
    "# storage_context = StorageContext.from_defaults(vector_store=vector_store)\n",
    "# query_engine = index.as_query_engine()\n",
    "\n",
    "# # Adding documents to existing index\n",
    "\n",
    "# for d in documents:\n",
    "#     index.insert(document=d, storage_context=storage_context)"
   ]
  },
  {
   "cell_type": "code",
   "execution_count": 8,
   "metadata": {},
   "outputs": [],
   "source": [
    "response = query_engine.query(\"Summary the essay\")"
   ]
  },
  {
   "cell_type": "code",
   "execution_count": 9,
   "metadata": {},
   "outputs": [
    {
     "name": "stdout",
     "output_type": "stream",
     "text": [
      "The essay discusses the events leading up to and surrounding the storming of the Bastille during the\n",
      "French Revolution. It covers the economic crisis in France, the formation of the National Assembly,\n",
      "the dismissal of Jacques Necker, the public outrage and demonstrations in Paris, the violent\n",
      "confrontation at the Bastille, the surrender of the fortress, the casualties on both sides, and the\n",
      "aftermath including the fate of Governor de Launay and other individuals involved.\n"
     ]
    }
   ],
   "source": [
    "import textwrap\n",
    "print(textwrap.fill(str(response), 100))"
   ]
  },
  {
   "cell_type": "code",
   "execution_count": 15,
   "metadata": {},
   "outputs": [
    {
     "name": "stdout",
     "output_type": "stream",
     "text": [
      "I cannot provide an answer to the question as it is not within the context provided.\n"
     ]
    }
   ],
   "source": [
    "response = query_engine.query(\"Se non hai la risposta alla seguente domanda, non devi rispondere. Che cosa è successo durante la seconda guerra mondiale in Italia?\")\n",
    "print(textwrap.fill(str(response), 100))"
   ]
  },
  {
   "cell_type": "code",
   "execution_count": 17,
   "metadata": {},
   "outputs": [
    {
     "name": "stdout",
     "output_type": "stream",
     "text": [
      "Durante la seconda guerra d'indipendenza in Italia, gli eserciti franco-piemontesi, guidati da\n",
      "Napoleone III, sconfissero gli austriaci nelle battaglie di Magenta e di Solferino e San Martino.\n",
      "Successivamente, Napoleone III abbandonò la guerra e avviò trattative con l'Austria, firmando\n",
      "l'armistizio a Villafranca di Verona il 11 luglio 1859. La Francia ottenne dalla Austria la\n",
      "Lombardia, ad eccezione di Mantova.\n"
     ]
    }
   ],
   "source": [
    "response = query_engine.query(\"Se non hai la risposta alla seguente domanda, non devi rispondere. Che cosa è successo durante la seconda guerra d'indipendenza in Italia?\")\n",
    "print(textwrap.fill(str(response), 100))"
   ]
  },
  {
   "cell_type": "code",
   "execution_count": 18,
   "metadata": {},
   "outputs": [
    {
     "name": "stdout",
     "output_type": "stream",
     "text": [
      "La Francia e il Regno di Sardegna sconfissero l'Austria.\n"
     ]
    }
   ],
   "source": [
    "response = query_engine.query(\"Se non hai la risposta alla seguente domanda, non devi rispondere. Che cosa è successo durante la seconda guerra d'indipendenza in Italia? La risposta deve avere non piu di 50 caratteri\")\n",
    "print(textwrap.fill(str(response), 100))"
   ]
  },
  {
   "cell_type": "code",
   "execution_count": 19,
   "metadata": {},
   "outputs": [
    {
     "name": "stdout",
     "output_type": "stream",
     "text": [
      "La seconda guerra d'indipendenza italiana ha visto la sconfitta dell'Austria da parte della Francia\n",
      "e del Regno di Sardegna.\n"
     ]
    }
   ],
   "source": [
    "response = query_engine.query(\"Se non hai la risposta alla seguente domanda, non devi rispondere. Che cosa è successo durante la seconda guerra d'indipendenza in Italia? La risposta deve avere non piu di 50 caratteri. No, voglio che sia al massimo di 200 caratteri\")\n",
    "print(textwrap.fill(str(response), 100))"
   ]
  },
  {
   "cell_type": "code",
   "execution_count": 20,
   "metadata": {},
   "outputs": [],
   "source": [
    "response = query_engine.query(\"Se non hai la risposta alla seguente domanda, non devi rispondere. Che cosa è successo durante la seconda guerra d'indipendenza in Italia? La risposta deve avere non piu di 50 caratteri. No, voglio che sia al massimo di 200 caratteri. Cambia la terza parola della risposta precedente con 'ciao'\")"
   ]
  },
  {
   "cell_type": "code",
   "execution_count": 21,
   "metadata": {},
   "outputs": [
    {
     "name": "stdout",
     "output_type": "stream",
     "text": [
      "Napoleone III abbandonò la guerra dopo la Battaglia di Solferino e San Martino.\n"
     ]
    }
   ],
   "source": [
    "print(textwrap.fill(str(response), 100))"
   ]
  }
 ],
 "metadata": {
  "kernelspec": {
   "display_name": ".venv",
   "language": "python",
   "name": "python3"
  },
  "language_info": {
   "codemirror_mode": {
    "name": "ipython",
    "version": 3
   },
   "file_extension": ".py",
   "mimetype": "text/x-python",
   "name": "python",
   "nbconvert_exporter": "python",
   "pygments_lexer": "ipython3",
   "version": "3.9.6"
  }
 },
 "nbformat": 4,
 "nbformat_minor": 2
}
